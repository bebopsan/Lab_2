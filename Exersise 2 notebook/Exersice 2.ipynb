{
 "cells": [
  {
   "cell_type": "markdown",
   "metadata": {},
   "source": [
    "# Notebook for calculations in exersice 2 "
   ]
  },
  {
   "cell_type": "markdown",
   "metadata": {},
   "source": [
    "Definition of the formulas for exercise 2"
   ]
  },
  {
   "cell_type": "markdown",
   "metadata": {},
   "source": [
    "![Formulance of inductance model](img/formulas.png)"
   ]
  },
  {
   "cell_type": "code",
   "execution_count": 3,
   "metadata": {
    "collapsed": true
   },
   "outputs": [],
   "source": [
    "from math import *"
   ]
  },
  {
   "cell_type": "code",
   "execution_count": 4,
   "metadata": {
    "collapsed": false
   },
   "outputs": [],
   "source": [
    "def func_L_trace(h_top,len_trace,w_trace,len_cap,w_cap):\n",
    "    \"\"\" Capacitor trace inductance \n",
    "    Model dimensions are given in mil.\n",
    "    Output inductance in pH.\n",
    "    \"\"\"\n",
    "    ratio_trace = len_trace/w_trace\n",
    "    ratio_cap = len_cap/w_cap\n",
    "    return 32*h_top*(2*ratio_trace + ratio_cap)\n",
    "\n",
    "def func_L_vias(h_top,s,D):\n",
    "    \"\"\" Via pair loop inductance\n",
    "    Model dimensions are given in mil.\n",
    "    Output inductance in pH (1*10^-12H).\n",
    "    \"\"\"\n",
    "    return  10*h_top*log(2*s/D)\n",
    "    \n",
    "def func_L_spread(h_plane,B,D):\n",
    "    \"\"\" Via pair loop inductance\n",
    "    Model dimensions are given in mil.\n",
    "    Output inductance in pH (1*10^-12H).\n",
    "    \"\"\"\n",
    "    return 10*h_plane*log(B/D)\n",
    "mm2mil = lambda x:x*39370.1"
   ]
  },
  {
   "cell_type": "code",
   "execution_count": 5,
   "metadata": {
    "collapsed": false
   },
   "outputs": [],
   "source": [
    "len_p_0603 = mm2mil(1.6*10E-3)  # in m\n",
    "w_p_0603   = mm2mil(0.8*10E-3)  \n",
    "len_p_0805 = mm2mil(2*10E-83)  # in m\n",
    "w_p_0805   = mm2mil(1.25*10E-3)  \n",
    "\n",
    "\n",
    "B         = mm2mil(10E-3) #: Distance from cap to power pins\n",
    "p_spacing = mm2mil(1E-3)  #: Power pin spacing\n",
    "D         = mm2mil(0.2E-3)#: Pillar thickness\n",
    "metal_1   = mm2mil(35E-6) #: Thickness of metal in layer 1.\n",
    "metal_2   = mm2mil(18E-6) #: Thickness of metal in layer 2.\n",
    "metal_3   = mm2mil(18E-6) #: Thickness of metal in layer 3\n",
    "metal_6   = mm2mil(18E-6) #: Thickness of metal in layer 6.\n",
    "metal_7   = mm2mil(18E-6) #: Thickness of metal in layer 7.\n",
    "\n",
    "h_prepeg  = mm2mil(126E-6)#: Prepeg thickness btw 1 and 2.\n",
    "h_top     = h_prepeg + metal_1/2\n",
    "h_planes  = mm2mil(107E-6)#: Laminate btw 2 and 3.\n",
    "\n",
    "len_trace = len_p_0603\n",
    "s_p_0603 = 2*len_trace + len_p_0603\n",
    "\n",
    "w_trace = w_p_0603"
   ]
  },
  {
   "cell_type": "code",
   "execution_count": 6,
   "metadata": {
    "collapsed": false
   },
   "outputs": [],
   "source": [
    "L_trace = func_L_trace(h_top,len_trace,w_trace,len_p_0603,w_p_0603)\n",
    "L_vias = func_L_vias(h_top,s_p_0603,D)\n",
    "L_spread = func_L_spread(p_spacing,B,D)"
   ]
  },
  {
   "cell_type": "code",
   "execution_count": 7,
   "metadata": {
    "collapsed": false
   },
   "outputs": [
    {
     "name": "stdout",
     "output_type": "stream",
     "text": [
      "1084.7249952 348.7947969750445 1540.1673692600668\n",
      "2973.687161435111\n"
     ]
    }
   ],
   "source": [
    "print(L_trace,L_vias,L_spread)\n",
    "print(L_trace+L_vias+L_spread)"
   ]
  },
  {
   "cell_type": "code",
   "execution_count": 8,
   "metadata": {
    "collapsed": false
   },
   "outputs": [
    {
     "data": {
      "text/plain": [
       "0.09000000000000001"
      ]
     },
     "execution_count": 8,
     "metadata": {},
     "output_type": "execute_result"
    }
   ],
   "source": [
    "1.8*.05"
   ]
  },
  {
   "cell_type": "code",
   "execution_count": 15,
   "metadata": {
    "collapsed": false
   },
   "outputs": [
    {
     "data": {
      "text/plain": [
       "0.12682585246579248"
      ]
     },
     "execution_count": 15,
     "metadata": {},
     "output_type": "execute_result"
    }
   ],
   "source": [
    "Cap_10nF = 45.5E-6/(2.5**(log10(2.2e-9)))\n",
    "\n",
    "Cap_10nF"
   ]
  },
  {
   "cell_type": "code",
   "execution_count": 19,
   "metadata": {
    "collapsed": true
   },
   "outputs": [],
   "source": [
    "n1 = 50\n",
    "n2 = 20\n",
    "max_V_ripple_1 = 1.8 * 0.05\n",
    "max_V_ripple_2 = 3.3 * 0.05\n",
    "\n",
    "I_1 = max_V_ripple_1 /(50/n1)\n",
    "I_2 = max_V_ripple_2 /(50/n2)\n",
    "\n",
    "Z_1 = max_V_ripple_1/I_1"
   ]
  },
  {
   "cell_type": "code",
   "execution_count": 20,
   "metadata": {
    "collapsed": false
   },
   "outputs": [
    {
     "data": {
      "text/plain": [
       "1.0"
      ]
     },
     "execution_count": 20,
     "metadata": {},
     "output_type": "execute_result"
    }
   ],
   "source": [
    "Z_1"
   ]
  },
  {
   "cell_type": "code",
   "execution_count": 30,
   "metadata": {
    "collapsed": true
   },
   "outputs": [],
   "source": [
    "def get_C_from_f_L(f,L):\n",
    "    return 1/(4*pi**2*f**2*L)\n",
    "\n",
    "f_1 = 10.96E6\n",
    "L_1 = 100e-9\n",
    "C_1 = get_C_from_f_L(f_1,L_1)\n",
    "\n",
    "f2 = 4.21E6\n",
    "L2 = 665E-12\n",
    "C2 = get_C_from_f_L(f2,L2)\n",
    "\n",
    "f3 = 354.8E3\n",
    "L3 = L2\n",
    "C3 = get_C_from_f_L(f3,L3)\n",
    "\n",
    "f5 = 95.5E6\n",
    "L5 = L2\n",
    "C5 = get_C_from_f_L(f5,L5)"
   ]
  },
  {
   "cell_type": "code",
   "execution_count": 31,
   "metadata": {
    "collapsed": false
   },
   "outputs": [
    {
     "name": "stdout",
     "output_type": "stream",
     "text": [
      "2.149089123974264e-06\n",
      "0.0003025877873797157\n",
      "4.17649412485757e-09\n"
     ]
    }
   ],
   "source": [
    "C_1\n",
    "print(C2)\n",
    "print(C3)\n",
    "print(C5)"
   ]
  },
  {
   "cell_type": "code",
   "execution_count": 29,
   "metadata": {
    "collapsed": false
   },
   "outputs": [
    {
     "data": {
      "text/plain": [
       "6.382978723404255"
      ]
     },
     "execution_count": 29,
     "metadata": {},
     "output_type": "execute_result"
    }
   ],
   "source": [
    "300/47"
   ]
  },
  {
   "cell_type": "code",
   "execution_count": null,
   "metadata": {
    "collapsed": true
   },
   "outputs": [],
   "source": []
  }
 ],
 "metadata": {
  "kernelspec": {
   "display_name": "Python 3",
   "language": "python",
   "name": "python3"
  },
  "language_info": {
   "codemirror_mode": {
    "name": "ipython",
    "version": 3
   },
   "file_extension": ".py",
   "mimetype": "text/x-python",
   "name": "python",
   "nbconvert_exporter": "python",
   "pygments_lexer": "ipython3",
   "version": "3.5.1"
  }
 },
 "nbformat": 4,
 "nbformat_minor": 0
}
