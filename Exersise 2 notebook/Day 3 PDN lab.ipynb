{
 "cells": [
  {
   "cell_type": "markdown",
   "metadata": {},
   "source": [
    "# Derivation of scaling formula for task 1 day 3 PDN lab."
   ]
  },
  {
   "cell_type": "markdown",
   "metadata": {},
   "source": [
    "## Task 1"
   ]
  },
  {
   "cell_type": "markdown",
   "metadata": {},
   "source": [
    "Make a formula for converting capacitor parasitic inductance between exercise PCB stackup (the stackup you\n",
    "have measured on) and your PDN design stackup."
   ]
  },
  {
   "cell_type": "markdown",
   "metadata": {},
   "source": [
    "## Method"
   ]
  },
  {
   "cell_type": "markdown",
   "metadata": {},
   "source": [
    "For going between stackups 1 and 2 we can find the conversion formula by finding the ratio between inductances calculated with each stackup. Using the following:"
   ]
  },
  {
   "cell_type": "markdown",
   "metadata": {},
   "source": [
    "<img src=\"img/formulas.png\" alt=\"Formula of inductance model\" style=\"width: 500px;\"/>"
   ]
  },
  {
   "cell_type": "markdown",
   "metadata": {},
   "source": [
    "If the only difference between capacitors is the stackup, then we can fix a reasonable value for all the other dimension and calculate the inductance in the two cases as a function of the heights defined as $ h_{top} $ and  $ h_{planes} $."
   ]
  },
  {
   "cell_type": "markdown",
   "metadata": {},
   "source": [
    "<img src=\"img/stackup_1.png\" alt=\"Stackup 1\" style=\"width: 500px;\"/>\n",
    "<img src=\"img/stackup_2.png\" alt=\"Stackup 2\" style=\"width: 500px;\"/>"
   ]
  },
  {
   "cell_type": "markdown",
   "metadata": {},
   "source": [
    "The following is the code used to calculate the ratios."
   ]
  },
  {
   "cell_type": "markdown",
   "metadata": {},
   "source": [
    "## Implementation"
   ]
  },
  {
   "cell_type": "code",
   "execution_count": 4,
   "metadata": {
    "collapsed": true
   },
   "outputs": [],
   "source": [
    "# Things to import\n",
    "from math import log10\n",
    "from scipy.constants import epsilon_0\n",
    "# Definition of physical properties\n",
    "epsilon_r_F4    = 4.8 #Relative dielectric constant of Prepeg F-4\n",
    "epsilon_r_Isola = 4 #Relative dielectric constant of Prepeg F-4\n",
    "epsilon_r       = epsilon_r_Isola\n",
    "epsilon         = epsilon_r*epsilon_0  #Dielectric constant of Prepeg F-4"
   ]
  },
  {
   "cell_type": "code",
   "execution_count": 5,
   "metadata": {
    "collapsed": false
   },
   "outputs": [],
   "source": [
    "\"\"\"\n",
    "Functions definitions\n",
    "\"\"\"\n",
    "def func_L_trace(h_top,len_trace,w_trace,len_cap,w_cap):\n",
    "    \"\"\" Capacitor trace inductance \n",
    "    Model dimensions are given in mil.\n",
    "    Output inductance in pH.\n",
    "    \"\"\"\n",
    "    ratio_trace = len_trace/w_trace\n",
    "    ratio_cap = len_cap/w_cap\n",
    "    return 32*h_top*(2*ratio_trace + ratio_cap)\n",
    "\n",
    "def func_L_vias(h_top,s,D):\n",
    "    \"\"\" Via pair loop inductance\n",
    "    Model dimensions are given in mil.\n",
    "    Output inductance in pH (1*10^-12H).\n",
    "    \"\"\"\n",
    "    return  10*h_top*log10(2*s/D)\n",
    "    \n",
    "def func_L_spread(h_plane,B,D):\n",
    "    \"\"\" Via pair loop inductance\n",
    "    Model dimensions are given in mil.\n",
    "    Output inductance in pH (1*10^-12H).\n",
    "    \"\"\"\n",
    "    return 10*h_plane*log10(B/D)\n",
    "\n",
    "m2mil = lambda x:x*39370.1\n",
    "mil2m = lambda x:x*2.54E-5"
   ]
  },
  {
   "cell_type": "code",
   "execution_count": 15,
   "metadata": {
    "collapsed": false
   },
   "outputs": [],
   "source": [
    "\"\"\"\n",
    "    Package dimensions definitions for the case of 0603\n",
    "\"\"\"\n",
    "len_p_0603 = m2mil(1.6E-3)  # in m\n",
    "w_p_0603   = m2mil(0.8E-3)  \n",
    "\n",
    "\"\"\"\n",
    "    Loops dimensions definitions\n",
    "\"\"\"\n",
    "\n",
    "B         = m2mil(10E-3) #: Distance from cap to power pins\n",
    "D         = m2mil(0.2E-3)#: Pillar thickness\n",
    "\n",
    "metal_1   = m2mil(35E-6) #: Thickness of metal in layer 1.\n",
    "metal_2   = m2mil(18E-6) #: Thickness of metal in layer 2.\n",
    "metal_3   = m2mil(18E-6) #: Thickness of metal in layer 3\n",
    "metal_6   = m2mil(18E-6) #: Thickness of metal in layer 6.\n",
    "metal_7   = m2mil(18E-6) #: Thickness of metal in layer 7.\n",
    "\n",
    "len_trace = m2mil(0.9E-3) \n",
    "w_trace   = m2mil(0.8E-3) \n",
    "s_p_0603  = m2mil(3.0E-3) #2*len_trace + len_p_0603\n"
   ]
  },
  {
   "cell_type": "code",
   "execution_count": 19,
   "metadata": {
    "collapsed": false
   },
   "outputs": [
    {
     "name": "stdout",
     "output_type": "stream",
     "text": [
      "L_trace:  862.0477095999998  L_vias:  93.6286025318061  L_spread:  95.65072512382457\n",
      "Inductance of near planes on stackup 2:  1051.3270372556306\n"
     ]
    }
   ],
   "source": [
    "\"\"\"\n",
    "    Case for near vias stackup 1\n",
    "\"\"\"\n",
    "\n",
    "h_prepeg_1    = m2mil(126E-6)#: Prepeg thickness btw 1 and 2.\n",
    "h_laminate_1  = m2mil(107E-6)#: Prepeg thickness btw 1 and 2.\n",
    "\n",
    "h_top_1       = h_prepeg_1 + metal_1\n",
    "h_planes_1    = metal_2 + h_laminate_1 + metal_3#: Laminate btw 2 and 3.\n",
    "\n",
    "L_trace  = func_L_trace(h_top_1, len_trace, w_trace, len_p_0603, w_p_0603)\n",
    "L_vias   = func_L_vias(h_top_1, s_p_0603, D)\n",
    "L_spread = func_L_spread(h_planes_1, B, D)\n",
    "\n",
    "L_1 = L_trace+L_vias+L_spread\n",
    "\n",
    "print(\"L_trace: \",L_trace,\" L_vias: \", L_vias, \" L_spread: \", L_spread)\n",
    "print(\"Inductance of near planes on stackup 2: \", L_1)"
   ]
  },
  {
   "cell_type": "code",
   "execution_count": 20,
   "metadata": {
    "collapsed": false
   },
   "outputs": [
    {
     "name": "stdout",
     "output_type": "stream",
     "text": [
      "L_trace_2:  1258.268396  L_vias_2:  136.66286704953066  L_spread_2:  157.8571407637944\n",
      "Inductance of near planes on stackup 2:  1552.788403813325\n",
      "Ratio between stackups:  1.4769794257995135\n"
     ]
    }
   ],
   "source": [
    "\"\"\"\n",
    "    Case for near vias stackup 2\n",
    "\"\"\"\n",
    "\n",
    "h_prepeg_2    = m2mil(200E-6)#: Prepeg thickness btw 6 and 7.\n",
    "h_laminate_2  = m2mil(200E-6)#: Prepeg thickness btw 6 and 7.\n",
    "\n",
    "h_top_2    =  h_prepeg_2 + metal_1 # h_top for our PDN design stackup \n",
    "h_planes_2 =  metal_2 + h_laminate_2 + metal_3#: Laminate btw 2 and 3 for our PDN design stackup .\n",
    "\n",
    "L_trace_2  = func_L_trace(h_top_2, len_trace, w_trace, len_p_0603, w_p_0603)\n",
    "L_vias_2   = func_L_vias(h_top_2, s_p_0603, D)\n",
    "L_spread_2 = func_L_spread(h_planes_2, B, D)\n",
    "\n",
    "\n",
    "print(\"L_trace_2: \",L_trace_2,\" L_vias_2: \", L_vias_2, \" L_spread_2: \", L_spread_2)\n",
    "\n",
    "L_2 = L_trace_2+L_vias_2+L_spread_2\n",
    "print(\"Inductance of near planes on stackup 2: \", L_2)\n",
    "\n",
    "ratio_stackups = L_2/L_1\n",
    "print(\"Ratio between stackups: \",ratio_stackups)"
   ]
  },
  {
   "cell_type": "code",
   "execution_count": 21,
   "metadata": {
    "collapsed": false
   },
   "outputs": [
    {
     "name": "stdout",
     "output_type": "stream",
     "text": [
      "Ratio between power planes in stackup 1:  2.8293302764420276\n"
     ]
    }
   ],
   "source": [
    "\"\"\" \n",
    "    Near to far effect in stackup 1 according \n",
    "    to model \n",
    "\"\"\"\n",
    "h_top_far_1       = 3*h_prepeg_1 + 4*metal_2 + metal_1\n",
    "h_planes_far_1    = metal_6 + h_laminate_1 + metal_7#: Laminate btw 6 and 7.\n",
    "    \n",
    "L_trace_far_1  = func_L_trace(h_top_far_1, len_trace, w_trace, len_p_0603, w_p_0603)\n",
    "L_vias_far_1   = func_L_vias(h_top_far_1, s_p_0603, D)\n",
    "L_spread_far_1 = func_L_spread(h_planes_far_1, B, D)\n",
    "\n",
    "L_far_1 = L_trace_far_1 + L_vias_far_1 + L_spread_far_1\n",
    "\n",
    "ratio_power_planes_1 = L_far_1/L_1\n",
    "print(\"Ratio between power planes in stackup 1: \",ratio_power_planes_1)"
   ]
  },
  {
   "cell_type": "code",
   "execution_count": 23,
   "metadata": {
    "collapsed": false
   },
   "outputs": [
    {
     "name": "stdout",
     "output_type": "stream",
     "text": [
      "Combined ratio of changing stackup and changing depth: 4.141929705060739\n"
     ]
    }
   ],
   "source": [
    "\"\"\" \n",
    "    Near to far effect in stackup 2 according \n",
    "    to model \n",
    "\"\"\"\n",
    "h_top_far_2       = 3*h_prepeg_2 + 4*metal_2 + metal_1\n",
    "h_planes_far_2    = metal_6 + h_laminate_2 + metal_7#: Laminate btw 2 and 3.\n",
    "    \n",
    "L_trace_far_2  = func_L_trace(h_top_far_2, len_trace, w_trace, len_p_0603, w_p_0603)\n",
    "L_vias_far_2   = func_L_vias(h_top_far_2, s_p_0603, D)\n",
    "L_spread_far_2 = func_L_spread(h_planes_far_2, B, D)\n",
    "\n",
    "L_far_2 = L_trace_far_2 + L_vias_far_2 + L_spread_far_2\n",
    "\n",
    "ratio_power_planes_2 = L_far_2/L_1\n",
    "print(\"Combined ratio of changing stackup and changing depth:\", ratio_power_planes_2)\n"
   ]
  },
  {
   "cell_type": "code",
   "execution_count": 11,
   "metadata": {
    "collapsed": false
   },
   "outputs": [
    {
     "name": "stdout",
     "output_type": "stream",
     "text": [
      "ratio power planes exp 1.4918581646629128\n"
     ]
    }
   ],
   "source": [
    "\"\"\" \n",
    "    Near to far effect according \n",
    "    to experiments by Kristian\n",
    "\"\"\"\n",
    "L_near_exp_1 = 657.1E-12 # H from layer 1-2 on experimental stackup\n",
    "L_far_exp_1  = 980.3E-12 # H from layer 1-6 on experimental stackup\n",
    "\n",
    "ratio_power_planes_exp = L_far_exp_1/L_near_exp_1\n",
    "print(\"Ratio power planes exp\",ratio_power_planes_exp)\n"
   ]
  },
  {
   "cell_type": "code",
   "execution_count": 25,
   "metadata": {
    "collapsed": false
   },
   "outputs": [
    {
     "name": "stdout",
     "output_type": "stream",
     "text": [
      "Power planes 1-2 capacitance in stackup 2: 5.312509821816929e-10\n"
     ]
    }
   ],
   "source": [
    "\"\"\"\n",
    "    Capacitance due to power planes    \n",
    "\"\"\"\n",
    "\n",
    "C_planes_1_2 = epsilon * 60E-3 * 50E-3 /mil2m(h_laminate_2)\n",
    "\n",
    "print(\"Power planes 1-2 capacitance in stackup 2:\", C_planes_1_2)"
   ]
  },
  {
   "cell_type": "code",
   "execution_count": null,
   "metadata": {
    "collapsed": true
   },
   "outputs": [],
   "source": []
  }
 ],
 "metadata": {
  "kernelspec": {
   "display_name": "Python 3",
   "language": "python",
   "name": "python3"
  },
  "language_info": {
   "codemirror_mode": {
    "name": "ipython",
    "version": 3
   },
   "file_extension": ".py",
   "mimetype": "text/x-python",
   "name": "python",
   "nbconvert_exporter": "python",
   "pygments_lexer": "ipython3",
   "version": "3.5.1"
  }
 },
 "nbformat": 4,
 "nbformat_minor": 0
}
