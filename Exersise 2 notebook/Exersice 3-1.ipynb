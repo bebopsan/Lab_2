{
 "cells": [
  {
   "cell_type": "markdown",
   "metadata": {},
   "source": [
    "# Notebook for calculations in exersice 2 "
   ]
  },
  {
   "cell_type": "markdown",
   "metadata": {},
   "source": [
    "Definition of the formulas for exercise 2"
   ]
  },
  {
   "cell_type": "markdown",
   "metadata": {},
   "source": [
    "![Formulance of inductance model](img/formulas.png)"
   ]
  },
  {
   "cell_type": "code",
   "execution_count": 13,
   "metadata": {
    "collapsed": true
   },
   "outputs": [],
   "source": [
    "from math import *"
   ]
  },
  {
   "cell_type": "code",
   "execution_count": 14,
   "metadata": {
    "collapsed": false
   },
   "outputs": [],
   "source": [
    "def func_L_trace(h_top,len_trace,w_trace,len_cap,w_cap):\n",
    "    \"\"\" Capacitor trace inductance \n",
    "    Model dimensions are given in mil.\n",
    "    Output inductance in pH.\n",
    "    \"\"\"\n",
    "    ratio_trace = len_trace/w_trace\n",
    "    ratio_cap = len_cap/w_cap\n",
    "    return 32*h_top*(2*ratio_trace + ratio_cap)\n",
    "\n",
    "def func_L_vias(h_top,s,D):\n",
    "    \"\"\" Via pair loop inductance\n",
    "    Model dimensions are given in mil.\n",
    "    Output inductance in pH (1*10^-12H).\n",
    "    \"\"\"\n",
    "    return  10*h_top*log(2*s/D)\n",
    "    \n",
    "def func_L_spread(h_plane,B,D):\n",
    "    \"\"\" Via pair loop inductance\n",
    "    Model dimensions are given in mil.\n",
    "    Output inductance in pH (1*10^-12H).\n",
    "    \"\"\"\n",
    "    return 10*h_plane*log(B/D)\n",
    "mm2mil = lambda x:x*39370.1"
   ]
  },
  {
   "cell_type": "code",
   "execution_count": 15,
   "metadata": {
    "collapsed": false
   },
   "outputs": [],
   "source": [
    "len_p_0603 = mm2mil(1.6*10E-3)  # in m\n",
    "w_p_0603   = mm2mil(0.8*10E-3)  \n",
    "len_p_0805 = mm2mil(2*10E-83)  # in m\n",
    "w_p_0805   = mm2mil(1.25*10E-3)  \n",
    "\n",
    "\n",
    "B         = mm2mil(10E-3) #: Distance from cap to power pins\n",
    "p_spacing = mm2mil(1E-3)  #: Power pin spacing\n",
    "D         = mm2mil(0.2E-3)#: Pillar thickness\n",
    "metal_1   = mm2mil(35E-6) #: Thickness of metal in layer 1.\n",
    "metal_2   = mm2mil(18E-6) #: Thickness of metal in layer 2.\n",
    "metal_3   = mm2mil(18E-6) #: Thickness of metal in layer 3\n",
    "metal_6   = mm2mil(18E-6) #: Thickness of metal in layer 6.\n",
    "metal_7   = mm2mil(18E-6) #: Thickness of metal in layer 7.\n",
    "\n",
    "h_prepeg  = mm2mil(126E-6)#: Prepeg thickness btw 1 and 2.\n",
    "h_top     = h_prepeg + metal_1/2\n",
    "h_planes  = mm2mil(107E-6)#: Laminate btw 2 and 3.\n",
    "\n",
    "len_trace = len_p_0603\n",
    "s_p_0603 = 2*len_trace + len_p_0603\n",
    "\n",
    "w_trace = w_p_0603"
   ]
  },
  {
   "cell_type": "code",
   "execution_count": 16,
   "metadata": {
    "collapsed": false
   },
   "outputs": [],
   "source": [
    "L_trace = func_L_trace(h_top,len_trace,w_trace,len_p_0603,w_p_0603)\n",
    "L_vias = func_L_vias(h_top,s_p_0603,D)\n",
    "L_spread = func_L_spread(p_spacing,B,D)"
   ]
  },
  {
   "cell_type": "code",
   "execution_count": 17,
   "metadata": {
    "collapsed": false
   },
   "outputs": [
    {
     "name": "stdout",
     "output_type": "stream",
     "text": [
      "1084.7249952 348.7947969750445 1540.1673692600668\n",
      "2973.687161435111\n"
     ]
    }
   ],
   "source": [
    "print(L_trace,L_vias,L_spread)\n",
    "print(L_trace+L_vias+L_spread)"
   ]
  },
  {
   "cell_type": "code",
   "execution_count": 1,
   "metadata": {
    "collapsed": false
   },
   "outputs": [
    {
     "data": {
      "text/plain": [
       "1.4596273291925466"
      ]
     },
     "execution_count": 1,
     "metadata": {},
     "output_type": "execute_result"
    }
   ],
   "source": [
    "235/161"
   ]
  },
  {
   "cell_type": "code",
   "execution_count": 3,
   "metadata": {
    "collapsed": false
   },
   "outputs": [
    {
     "data": {
      "text/plain": [
       "1.6644999999999999"
      ]
     },
     "execution_count": 3,
     "metadata": {},
     "output_type": "execute_result"
    }
   ],
   "source": [
    "(1.869+1.46)/2\n"
   ]
  },
  {
   "cell_type": "code",
   "execution_count": 4,
   "metadata": {
    "collapsed": false
   },
   "outputs": [
    {
     "data": {
      "text/plain": [
       "1.8691588785046729"
      ]
     },
     "execution_count": 4,
     "metadata": {},
     "output_type": "execute_result"
    }
   ],
   "source": [
    "200/107"
   ]
  },
  {
   "cell_type": "code",
   "execution_count": null,
   "metadata": {
    "collapsed": true
   },
   "outputs": [],
   "source": []
  }
 ],
 "metadata": {
  "kernelspec": {
   "display_name": "Python 3",
   "language": "python",
   "name": "python3"
  },
  "language_info": {
   "codemirror_mode": {
    "name": "ipython",
    "version": 3
   },
   "file_extension": ".py",
   "mimetype": "text/x-python",
   "name": "python",
   "nbconvert_exporter": "python",
   "pygments_lexer": "ipython3",
   "version": "3.5.1"
  }
 },
 "nbformat": 4,
 "nbformat_minor": 0
}
